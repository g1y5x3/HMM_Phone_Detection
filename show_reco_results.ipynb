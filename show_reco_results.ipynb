{
 "cells": [
  {
   "cell_type": "markdown",
   "metadata": {},
   "source": [
    "# To understand the speech recognition results\n",
    "\n",
    "![alt text](https://wikimedia.org/api/rest_v1/media/math/render/svg/7db6226f0c365982b94f221d68530bf8a6a50611 \"WER\")\n",
    "\n",
    "where\n",
    " - S is the number of substitutions,\n",
    " - D is the number of deletions,\n",
    " - I is the number of insertions,\n",
    " - C is the number of correct words,\n",
    " - N is the number of words in the reference (N=S+D+C)\n",
    " \n",
    "## Example\n",
    "\n",
    "### Testing Results from one subject which are not correct\n",
    "- (1) the dew shimmered again shell again shell\n",
    "- (2) the dew shimmered over my shiny blue shell again again\n",
    "- (3) the dew shimmered shell again dew over my shiny blue shell again\n",
    "- (4) the dew shimmered over my shiny blue shell again again\n",
    "- (7) the dew shimmered over my shiny blue shell again again\n",
    "- (12) the dew shimmered over my shiny blue shell again again\n",
    "- (23) the dew shimmered over my shiny blue shell again again\n",
    "- (33) the dew shimmered over my shiny blue shell again again\n",
    "- (34) the dew shimmered over my shiny blue shell again again\n",
    "- (35) the dew shimmered over my shiny blue shell again again\n",
    "- (36) the dew shimmered over my shiny blue shell again again\n",
    "- (37) the dew shimmered over my shiny blue shell again again\n",
    "- (41) the dew shimmered over my shiny blue shell again again\n",
    "- (44) the dew shimmered over my shiny blue shell again again\n",
    "- (47) the dew shimmered over my shiny blue shell again again\n",
    "- (50) the dew shimmered over my shiny blue shell again again again\n",
    "- (53) the dew again shell again again\n",
    "\n",
    "\n",
    "%WER 4.44 \n",
    " - 22 / 495\n",
    " - 13 ins\n",
    " - 7 del\n",
    " - 2 sub\n",
    "\n",
    "%SER 21.82 \n",
    " - 12 / 55"
   ]
  }
 ],
 "metadata": {
  "kernelspec": {
   "display_name": "Python 3",
   "language": "python",
   "name": "python3"
  },
  "language_info": {
   "codemirror_mode": {
    "name": "ipython",
    "version": 3
   },
   "file_extension": ".py",
   "mimetype": "text/x-python",
   "name": "python",
   "nbconvert_exporter": "python",
   "pygments_lexer": "ipython3",
   "version": "3.6.7"
  }
 },
 "nbformat": 4,
 "nbformat_minor": 2
}
