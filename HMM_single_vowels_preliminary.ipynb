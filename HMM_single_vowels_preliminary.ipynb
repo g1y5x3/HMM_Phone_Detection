{
 "cells": [
  {
   "cell_type": "markdown",
   "metadata": {},
   "source": [
    "# Recognize Phones from Speech Sentences using Hidden Markov Model\n",
    "## Preliminary Testing on a SINGLE vowel\n",
    "\n",
    "For this project, a hidden markov model (HMM) is applied to create phone models for three different vowels (/a/, /u/, /i/). Then all three phone models are used to infer the state of a given speech sentence. The objective is to recognize the three phones from any given sentence with their corresponding time indices."
   ]
  },
  {
   "cell_type": "code",
   "execution_count": 1,
   "metadata": {},
   "outputs": [],
   "source": [
    "#%matplotlib notebook\n",
    "import matplotlib.pyplot as plt\n",
    "import matplotlib.collections as collections\n",
    "import scipy.io as sio\n",
    "import numpy as np\n",
    "import pandas as pd\n",
    "\n",
    "from hmmlearn_YG import hmm\n",
    "from python_speech_features import mfcc"
   ]
  },
  {
   "cell_type": "markdown",
   "metadata": {},
   "source": [
    "### Hidden Markov Models\n",
    "\n",
    "[HMMs](https://en.wikipedia.org/wiki/Hidden_Markov_model) are a class of probabilistic graphical models that can predict the sequence of states, given a sequence of observations that are dependent on those states, and when the states themselves are unobservable. HMMs have seen widespread success in a variety of applications, from Speech processing and Robotics to DNA Sequencing. An HMM operates according to a set of assumptions, which are :  \n",
    "1. **Markov Assumption**  \n",
    "Current state is dependent on only the previous state.  \n",
    "2. **Stationarity Assumption**  \n",
    "Transition probabilities are independent of time of transition.  \n",
    "3. **Independence Assumption**  \n",
    "Each observation depends solely on the current underlying state (which in turn depends on the previous one), and is independent of other observations.  \n",
    "\n",
    "An HMM is a **Generative model**, in that it attempts to find the probability of a set of observations being produced or *generated* by a class.  The parameters that we pass to the HMM class, defined below, are:  \n",
    "$O$ = a set of observations  \n",
    "$S$ = a set of states  \n",
    "$A$ = transition probabilities, represented as a matrix  \n",
    "$B$ = emission probabilities, represented as a matrix  \n",
    "$\\pi$ = initial state probabilties  \n",
    "$Y$ = sequence observed  "
   ]
  },
  {
   "cell_type": "markdown",
   "metadata": {},
   "source": [
    "## 1. Load Vowel Data for Training the HMM\n",
    "Load one normal vowels (/a/ normal, /u/ normal, /i/ normal) but only using voice channels, the normal vowels are used for fitting the Hidden Markov Model, generate all hidden state distributions."
   ]
  },
  {
   "cell_type": "code",
   "execution_count": 2,
   "metadata": {},
   "outputs": [],
   "source": [
    "# Select Subject and Vowel\n",
    "subject = \"R031\"\n",
    "vowel = \"a_normal\""
   ]
  },
  {
   "cell_type": "code",
   "execution_count": 3,
   "metadata": {},
   "outputs": [
    {
     "name": "stdout",
     "output_type": "stream",
     "text": [
      "(55, 2)\n"
     ]
    }
   ],
   "source": [
    "# Extract variables that contain related data\n",
    "vowel_np = np.load(\"Data/%s/voice_%s.npy\" % (subject, vowel))\n",
    "print(vowel_np.shape)"
   ]
  },
  {
   "cell_type": "markdown",
   "metadata": {},
   "source": [
    "## 3. Extract Features from Vowels\n",
    "Load the vowels and extrac MFCC features from each repetition to construct the training vectors to train the HMM model\n",
    "### Mel Frequency Cepstral Coefficient (MFCC) \n",
    "1. Frame the signal into short frames.\n",
    "2. For each frame calculate the periodogram estimate of the power spectrum.\n",
    "3. Apply the mel filterbank to the power spectra, sum the energy in each filter.\n",
    "4. Take the logarithm of all filterbank energies.\n",
    "5. Take the DCT of the log filterbank energies.\n",
    "6. Keep DCT coefficients 2-13, discard the rest.\n",
    "\n",
    "Example:\n",
    "<img src=\"Figure/time_signal.jpg\" width=\"700\"/>\n",
    "<img src=\"Figure/mfcc_raw.jpg\" width=\"700\"/>\n",
    "\n",
    "### Reference\n",
    "Davis, S. Mermelstein, P. (1980) Comparison of Parametric Representations for Monosyllabic Word Recognition in Continuously Spoken Sentences. In IEEE Transactions on Acoustics, Speech, and Signal Processing, Vol. 28 No. 4, pp. 357-366\n",
    "\n",
    "X. Huang, A. Acero, and H. Hon. Spoken Language Processing: A guide to theory, algorithm, and system development. Prentice Hall, 2001."
   ]
  },
  {
   "cell_type": "code",
   "execution_count": 4,
   "metadata": {},
   "outputs": [
    {
     "name": "stdout",
     "output_type": "stream",
     "text": [
      "Original dimension of voice signal:  (27801,)\n",
      "Dimension of extracted features:  (138, 13)\n"
     ]
    }
   ],
   "source": [
    "mfcc_feat = mfcc(vowel_np[0,0], vowel_np[0,1], \n",
    "                 0.025, 0.01)\n",
    "print(\"Original dimension of voice signal: \", vowel_np[0,0].shape)\n",
    "print(\"Dimension of extracted features: \", mfcc_feat.shape)"
   ]
  },
  {
   "cell_type": "code",
   "execution_count": 5,
   "metadata": {},
   "outputs": [],
   "source": [
    "vowel_feature = np.empty((0,13))\n",
    "length = []\n",
    "for vowel_sample, vowel_rate in vowel_np[1:55]:\n",
    "    # MFCC feature vectors are typically computed every 10ms using \n",
    "    # an overlapping analysis window of 25ms\n",
    "    mfcc_feat = mfcc(vowel_sample, vowel_rate, \n",
    "                     0.025, 0.01)\n",
    "    \n",
    "    # Concatnate individual feature into one single array\n",
    "    vowel_feature = np.append(vowel_feature, mfcc_feat, axis=0)\n",
    "    length.append(int(mfcc_feat.shape[0]))"
   ]
  },
  {
   "cell_type": "code",
   "execution_count": 6,
   "metadata": {},
   "outputs": [
    {
     "name": "stdout",
     "output_type": "stream",
     "text": [
      "Total # of feature sequences:  [166, 162, 170, 168, 164, 173, 129, 154, 157, 163, 159, 150, 157, 164, 173, 160, 151, 169, 164, 147, 156, 170, 160, 164, 159, 158, 153, 165, 160, 167, 153, 161, 160, 161, 153, 163, 150, 156, 163, 160, 158, 141, 139, 155, 159, 140, 150, 152, 158, 149, 149, 158, 133, 134]\n"
     ]
    }
   ],
   "source": [
    "print('Total # of feature sequences: ', length)"
   ]
  },
  {
   "cell_type": "markdown",
   "metadata": {},
   "source": [
    "## 4. Training a HMM Model\n",
    "Use Gaussian distribution for estimating emission probabilities"
   ]
  },
  {
   "cell_type": "code",
   "execution_count": 7,
   "metadata": {},
   "outputs": [
    {
     "name": "stdout",
     "output_type": "stream",
     "text": [
      "State transition probability matrix:\n",
      " [[0.5 0.5 0. ]\n",
      " [0.  0.5 0.5]\n",
      " [0.  0.  1. ]]\n",
      "State initial probabilities:\n",
      " [1. 0. 0.]\n"
     ]
    }
   ],
   "source": [
    "num_components = 3\n",
    "\n",
    "# Initialize HMM model and estimate parameters for base phone\n",
    "transmat = np.matrix([[0.5, 0.5, 0],\n",
    "                      [0, 0.5, 0.5],\n",
    "                      [0, 0, 1]])\n",
    "\n",
    "print(\"State transition probability matrix:\\n\", transmat)\n",
    "\n",
    "# Always start in first state\n",
    "startprob = np.zeros(3)\n",
    "startprob[0] = 1.0\n",
    "\n",
    "print(\"State initial probabilities:\\n\",startprob)"
   ]
  },
  {
   "cell_type": "markdown",
   "metadata": {},
   "source": [
    "### To Do\n",
    "Investigate clustering algorithm for the initialization of the HMM parameter estimation"
   ]
  },
  {
   "cell_type": "code",
   "execution_count": 25,
   "metadata": {},
   "outputs": [
    {
     "name": "stdout",
     "output_type": "stream",
     "text": [
      "[[ -6.56645508  13.0385565  -23.76816498 -33.01775959 -21.70718309\n",
      "  -13.81905092   9.3968266    1.44434925 -22.25156454  -6.20606715\n",
      "  -25.80682409  -2.09674947 -25.29217092]\n",
      " [ -6.3784235   15.26545786 -19.73458015 -25.76126336 -18.64328816\n",
      "   -8.6990386   18.53459925   7.99068895 -15.77050795  -2.67641817\n",
      "  -18.92565295   2.00382344 -19.11416106]\n",
      " [-12.11343769   1.87478829  14.24962756  -2.71361536   6.32537912\n",
      "    6.60008472   1.96656373  -7.48013703 -11.40743456  -6.38934953\n",
      "   -9.73417406  -9.92346796 -12.81800235]]\n"
     ]
    },
    {
     "data": {
      "text/plain": [
       "ConvergenceMonitor(history=[-296871.3076972699, -296871.29994244274], iter=14,\n",
       "          n_iter=100, tol=0.01, verbose=False)"
      ]
     },
     "execution_count": 25,
     "metadata": {},
     "output_type": "execute_result"
    }
   ],
   "source": [
    "model_vowel = hmm.GaussianHMM(n_components=num_components,  \n",
    "                              covariance_type=\"full\",\n",
    "                              params=\"mct\", \n",
    "                              init_params=\"cm\",\n",
    "                              n_iter=100)\n",
    "\n",
    "model_vowel.startprob = startprob.copy()\n",
    "model_vowel.transmat_ = transmat.copy()\n",
    "\n",
    "model_vowel.fit(vowel_feature, length)\n",
    "model_vowel.monitor_"
   ]
  },
  {
   "cell_type": "code",
   "execution_count": 10,
   "metadata": {
    "scrolled": false
   },
   "outputs": [
    {
     "name": "stdout",
     "output_type": "stream",
     "text": [
      "[[ -6.20986978  14.88036541 -20.87459932 -27.23020994 -21.55687525\n",
      "  -12.47276765  17.4521147    7.98966483 -19.1896724   -5.57549676\n",
      "  -20.02461812   0.694798   -19.7447831 ]\n",
      " [ -9.4921205   10.45594109  -1.21397884 -20.09580085  -9.29913011\n",
      "   -1.67088007   6.48262617  -2.87999337 -15.1323314   -5.35241945\n",
      "  -18.87519908  -5.00368577 -18.61841877]\n",
      " [ -6.81128496  13.06525973 -22.70268225 -30.7384168  -17.18382281\n",
      "   -8.62611642  10.52128599   1.14778669 -17.62211984  -2.13869046\n",
      "  -24.25284261  -0.45818098 -24.64680106]]\n"
     ]
    }
   ],
   "source": [
    "print(model_vowel.means_)"
   ]
  },
  {
   "cell_type": "markdown",
   "metadata": {},
   "source": [
    "### To-Do: \n",
    "Re-order the state sequence based on the variance of that particular state. The intuition here is assuming that the empty (quiet) state 0 has the smallest variance; the beginning state 1 of a vowel has the medium amount of variance; and the main vowel state 2 should have the largest variance.\n",
    "### !!!!!Note to myself!!!!!\n",
    "Inside GaussianHMM class, \\_init function, there is a step uses kmean to cluster given observations for the initial estimation of means"
   ]
  },
  {
   "cell_type": "markdown",
   "metadata": {},
   "source": [
    "## 5. Use Trainned HMM Model to Perform State Prediction on Given Voices\n",
    "Use the three HMM models which are estimated previously for /a/ normal, /u/ normal, /i/ normal to:\n",
    "1. Find corresponding states on original vowel signals for reference.\n",
    "2. Predict corresponding states for given syllables to validate the models.\n",
    "3. Predict corresponding states for given sentences to test the models."
   ]
  },
  {
   "cell_type": "markdown",
   "metadata": {},
   "source": [
    "### 5.1 Use vowels as tesing voice signal"
   ]
  },
  {
   "cell_type": "markdown",
   "metadata": {},
   "source": [
    "#### Function: Load testing voice (vowels or speeches), extract features\n",
    "Similar to the function of loading training vowels. However, this only loads one repetition for qualitative analysis."
   ]
  },
  {
   "cell_type": "markdown",
   "metadata": {
    "scrolled": true
   },
   "source": [
    "#### Function: Restore states prediction from the feature space to the original signal space\n",
    "The voice feature vectors are extracted every 10ms using a 25ms overlapping window. Thus, each predicted state for the feature vector need to be expanded to the original voice signal in order to get the indices for the start and end for the states."
   ]
  },
  {
   "cell_type": "code",
   "execution_count": 11,
   "metadata": {},
   "outputs": [],
   "source": [
    "color_vec = ['r','g','y','c','m']"
   ]
  },
  {
   "cell_type": "code",
   "execution_count": 12,
   "metadata": {},
   "outputs": [],
   "source": [
    "def predict_voice_state(model, voice_sample, voice_feature, c, L):\n",
    "    \"\"\" THIS PARAMETER NEED TO BE FURTHER INVESTIGATED \"\"\"\n",
    "    # sample window = time x sampling rate\n",
    "    sample_window = int(0.01 * 20000)\n",
    "    \"\"\" THIS PARAMETER NEED TO BE FURTHER INVESTIGATED \"\"\"\n",
    "\n",
    "    # Use trainned HMM to predict the states\n",
    "    state_prediction = model.predict(voice_feature)\n",
    "    state_length = len(state_prediction)\n",
    "\n",
    "#     print(state_prediction)\n",
    "\n",
    "    # Expand the state prediction from feature vectors to the original\n",
    "    # voice signals\n",
    "    # i - index\n",
    "    # s - state\n",
    "    voice_state = np.zeros((num_components,voice_sample.size))\n",
    "    for i,s in enumerate(state_prediction):\n",
    "\n",
    "        # Skip the first and last state to make it able to detect \n",
    "        # after differentiation\n",
    "        # the first state\n",
    "        if i == 0:\n",
    "            for j in range(1, sample_window):\n",
    "                voice_state[s,j] = 1\n",
    "        # from the second state until the second last state\n",
    "        elif i < state_length - 1:\n",
    "            for j in range(i*sample_window, i*sample_window+sample_window):\n",
    "                voice_state[s,j] = 1\n",
    "        # last state\n",
    "        else:\n",
    "            for j in range(i*sample_window, voice_sample.size-1):\n",
    "                voice_state[s,j] = 1\n",
    "\n",
    "    # Plot the expanded voice state sequence\n",
    "    plt.figure(2, figsize=(15, 6))\n",
    "    plt.plot(voice_sample, c='b', alpha=0.8)\n",
    "#     c = ['r','g','y']\n",
    "\n",
    "    for s in range(0,num_components):\n",
    "        i_start = []    # all start indices for the current state\n",
    "        i_end   = []    # all end indices for the current state\n",
    "\n",
    "        # peform the differentiation\n",
    "        voice_detect = np.diff(voice_state[s,:])\n",
    "        # find non-zero elements +1/-1\n",
    "        for i, v in enumerate(voice_detect):\n",
    "            if v == 1:\n",
    "                i_start.append(i)\n",
    "            elif v == -1:\n",
    "                i_end.append(i)\n",
    "\n",
    "        for i,j in zip(i_start, i_end):\n",
    "            p = plt.axvspan(i, j, facecolor=c[s] , alpha=0.4)\n",
    "\n",
    "    plt.xlim(L[0], L[1])    \n",
    "    plt.show()"
   ]
  },
  {
   "cell_type": "markdown",
   "metadata": {},
   "source": [
    "#### load testing vowels"
   ]
  },
  {
   "cell_type": "code",
   "execution_count": 13,
   "metadata": {},
   "outputs": [],
   "source": [
    "voice_te, vowel_rate = vowel_np[0]\n",
    "feature_te = mfcc(vowel_sample, vowel_rate, \n",
    "                 0.025, 0.01)"
   ]
  },
  {
   "cell_type": "markdown",
   "metadata": {},
   "source": [
    "#### Predict testing vowels\n",
    "State sequence order: red   ---> 0, green ---> 1, yello ---> 2\n",
    "### !!!!!Note to myself!!!!!\n",
    "The state prediction for a testing vowel would depend largely from the results of clustering"
   ]
  },
  {
   "cell_type": "code",
   "execution_count": 26,
   "metadata": {
    "scrolled": true
   },
   "outputs": [
    {
     "data": {
      "image/png": "[encoded data removed]",
      "text/plain": [
       "<Figure size 1080x432 with 1 Axes>"
      ]
     },
     "metadata": {
      "needs_background": "light"
     },
     "output_type": "display_data"
    }
   ],
   "source": [
    "predict_voice_state(model_vowel, voice_te, feature_te, color_vec, [0, 40000])"
   ]
  },
  {
   "cell_type": "code",
   "execution_count": 27,
   "metadata": {},
   "outputs": [],
   "source": [
    "# save the results of mean and covariance for good states prediction\n",
    "np.save('Stat/%s/%s_mean_02.npy' % (subject, vowel), model_vowel.means_)\n",
    "np.save('Stat/%s/%s_cov_02.npy' % (subject, vowel), model_vowel.covars_)\n",
    "\n",
    "np.savetxt('Stat/%s/%s_mean_02.txt' % (subject, vowel), model_vowel.means_, fmt='%.4e')"
   ]
  },
  {
   "cell_type": "markdown",
   "metadata": {},
   "source": [
    "### 5.2 Using syllable1 as tesing voice signal\n",
    "\n",
    "“afa afa afa ifi ifi ifi ufu ufu ufu”"
   ]
  },
  {
   "cell_type": "code",
   "execution_count": null,
   "metadata": {},
   "outputs": [],
   "source": [
    "syllable = sio.loadmat('Data/%s/syllable1.mat' % subject)"
   ]
  },
  {
   "cell_type": "code",
   "execution_count": null,
   "metadata": {},
   "outputs": [],
   "source": [
    "voice_syl_te, feature_syl_te, length_syl_te = load_voice_testing(syllable, 0, [0,120000])\n",
    "predict_voice_state(model_vowel, voice_syl_te, feature_syl_te, color_vec, [0,120000])"
   ]
  },
  {
   "cell_type": "markdown",
   "metadata": {},
   "source": [
    "zoom in the first part of this syllable sequence to better evaluate \"afa afa afa\""
   ]
  },
  {
   "cell_type": "code",
   "execution_count": null,
   "metadata": {},
   "outputs": [],
   "source": [
    "voice_syl_te, feature_syl_te, length_syl_te = load_voice_testing(syllable, 0, [0,30000])\n",
    "predict_voice_state(model_vowel, voice_syl_te, feature_syl_te, color_vec, [0,30000])"
   ]
  },
  {
   "cell_type": "markdown",
   "metadata": {},
   "source": [
    "### 5.3 Using sentence as tesing voice signal\n",
    "<img src=\"Figure/sentence_ref.png\" width=\"500\"/>\n",
    "\n",
    "### Reference\n",
    "Y.-A. Lien, C. Gattuccio, and C. Stepp, “Effects of phonetic context on relative fundamental frequency,” Journal of Speech, Language, and Hearing Research, vol. 57, pp. 1259–1267, 2014.\n",
    "\n",
    "Elizabeth S.Heller Murray, Gabrielle L. Hands, Carolyn R. Calabrese, Cara E. Stepp, Effects of Adventitious Acute Vocal Trauma: Relative Fundamental Frequency and Listener Perception, Journal of Voice, Volume 30, Issue 2, 2016, Pages 177-185."
   ]
  },
  {
   "cell_type": "markdown",
   "metadata": {},
   "source": [
    "##### Sentence 1 \n",
    "“The d**ew shi**mmered over m**y shi**ny blue shell again”"
   ]
  },
  {
   "cell_type": "code",
   "execution_count": null,
   "metadata": {},
   "outputs": [],
   "source": [
    "sentence1 = sio.loadmat('Data/%s/sentence1.mat' % subject)\n",
    "voice_stn_te, feature_stn_te, length_stn_te = load_voice_testing(sentence1, 0, [0, 60000])\n",
    "predict_voice_state(model_vowel, voice_stn_te, feature_stn_te, color_vec,[0, 60000])"
   ]
  },
  {
   "cell_type": "markdown",
   "metadata": {},
   "source": [
    "##### Sentence 2\n",
    "“Only w**e fee**l you d**o fai**l in n**ew fa**llen dew”"
   ]
  },
  {
   "cell_type": "code",
   "execution_count": null,
   "metadata": {},
   "outputs": [],
   "source": [
    "sentence2 = sio.loadmat('Data/%s/sentence2.mat' % subject)\n",
    "voice_stn_te, feature_stn_te, length_stn_te = load_voice_testing(sentence2, 0, [0, 60000])\n",
    "predict_voice_state(model_vowel, voice_stn_te, feature_stn_te, color_vec,[0, 60000])"
   ]
  }
 ],
 "metadata": {
  "kernelspec": {
   "display_name": "Python 3",
   "language": "python",
   "name": "python3"
  },
  "language_info": {
   "codemirror_mode": {
    "name": "ipython",
    "version": 3
   },
   "file_extension": ".py",
   "mimetype": "text/x-python",
   "name": "python",
   "nbconvert_exporter": "python",
   "pygments_lexer": "ipython3",
   "version": "3.6.5"
  },
  "widgets": {
   "application/vnd.jupyter.widget-state+json": {
    "state": {},
    "version_major": 2,
    "version_minor": 0
   }
  }
 },
 "nbformat": 4,
 "nbformat_minor": 2
}
